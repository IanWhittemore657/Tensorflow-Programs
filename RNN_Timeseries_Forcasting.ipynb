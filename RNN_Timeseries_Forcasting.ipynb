{
  "nbformat": 4,
  "nbformat_minor": 0,
  "metadata": {
    "colab": {
      "name": "RNN Timeseries Forcasting.ipynb",
      "provenance": [],
      "collapsed_sections": []
    },
    "kernelspec": {
      "name": "python3",
      "display_name": "Python 3"
    }
  },
  "cells": [
    {
      "cell_type": "code",
      "metadata": {
        "id": "s58Uqfd7UknU"
      },
      "source": [
        "import pandas as pd \r\n",
        "import numpy as np\r\n",
        "\r\n",
        "import matplotlib.pyplot as plt\r\n",
        "\r\n"
      ],
      "execution_count": 1,
      "outputs": []
    },
    {
      "cell_type": "code",
      "metadata": {
        "id": "lLn1FfC2U3DN"
      },
      "source": [
        "df = pd.read_csv(\"/content/MRTSSM448USN.csv\",parse_dates=True,index_col=\"DATE\")"
      ],
      "execution_count": 2,
      "outputs": []
    },
    {
      "cell_type": "code",
      "metadata": {
        "colab": {
          "base_uri": "https://localhost:8080/"
        },
        "id": "FIzgH4PcV9lG",
        "outputId": "3bf1732d-fb36-4f69-96f6-154c2745672e"
      },
      "source": [
        "df.info()"
      ],
      "execution_count": 3,
      "outputs": [
        {
          "output_type": "stream",
          "text": [
            "<class 'pandas.core.frame.DataFrame'>\n",
            "DatetimeIndex: 348 entries, 1992-01-01 to 2020-12-01\n",
            "Data columns (total 1 columns):\n",
            " #   Column        Non-Null Count  Dtype\n",
            "---  ------        --------------  -----\n",
            " 0   MRTSSM448USN  348 non-null    int64\n",
            "dtypes: int64(1)\n",
            "memory usage: 5.4 KB\n"
          ],
          "name": "stdout"
        }
      ]
    },
    {
      "cell_type": "code",
      "metadata": {
        "colab": {
          "base_uri": "https://localhost:8080/",
          "height": 431
        },
        "id": "OiP5B6aDXKNc",
        "outputId": "b97b717e-01e9-4913-dbba-1cce905a5160"
      },
      "source": [
        "df"
      ],
      "execution_count": 4,
      "outputs": [
        {
          "output_type": "execute_result",
          "data": {
            "text/html": [
              "<div>\n",
              "<style scoped>\n",
              "    .dataframe tbody tr th:only-of-type {\n",
              "        vertical-align: middle;\n",
              "    }\n",
              "\n",
              "    .dataframe tbody tr th {\n",
              "        vertical-align: top;\n",
              "    }\n",
              "\n",
              "    .dataframe thead th {\n",
              "        text-align: right;\n",
              "    }\n",
              "</style>\n",
              "<table border=\"1\" class=\"dataframe\">\n",
              "  <thead>\n",
              "    <tr style=\"text-align: right;\">\n",
              "      <th></th>\n",
              "      <th>MRTSSM448USN</th>\n",
              "    </tr>\n",
              "    <tr>\n",
              "      <th>DATE</th>\n",
              "      <th></th>\n",
              "    </tr>\n",
              "  </thead>\n",
              "  <tbody>\n",
              "    <tr>\n",
              "      <th>1992-01-01</th>\n",
              "      <td>6938</td>\n",
              "    </tr>\n",
              "    <tr>\n",
              "      <th>1992-02-01</th>\n",
              "      <td>7524</td>\n",
              "    </tr>\n",
              "    <tr>\n",
              "      <th>1992-03-01</th>\n",
              "      <td>8475</td>\n",
              "    </tr>\n",
              "    <tr>\n",
              "      <th>1992-04-01</th>\n",
              "      <td>9401</td>\n",
              "    </tr>\n",
              "    <tr>\n",
              "      <th>1992-05-01</th>\n",
              "      <td>9558</td>\n",
              "    </tr>\n",
              "    <tr>\n",
              "      <th>...</th>\n",
              "      <td>...</td>\n",
              "    </tr>\n",
              "    <tr>\n",
              "      <th>2020-08-01</th>\n",
              "      <td>18138</td>\n",
              "    </tr>\n",
              "    <tr>\n",
              "      <th>2020-09-01</th>\n",
              "      <td>18031</td>\n",
              "    </tr>\n",
              "    <tr>\n",
              "      <th>2020-10-01</th>\n",
              "      <td>19187</td>\n",
              "    </tr>\n",
              "    <tr>\n",
              "      <th>2020-11-01</th>\n",
              "      <td>20228</td>\n",
              "    </tr>\n",
              "    <tr>\n",
              "      <th>2020-12-01</th>\n",
              "      <td>30448</td>\n",
              "    </tr>\n",
              "  </tbody>\n",
              "</table>\n",
              "<p>348 rows × 1 columns</p>\n",
              "</div>"
            ],
            "text/plain": [
              "            MRTSSM448USN\n",
              "DATE                    \n",
              "1992-01-01          6938\n",
              "1992-02-01          7524\n",
              "1992-03-01          8475\n",
              "1992-04-01          9401\n",
              "1992-05-01          9558\n",
              "...                  ...\n",
              "2020-08-01         18138\n",
              "2020-09-01         18031\n",
              "2020-10-01         19187\n",
              "2020-11-01         20228\n",
              "2020-12-01         30448\n",
              "\n",
              "[348 rows x 1 columns]"
            ]
          },
          "metadata": {
            "tags": []
          },
          "execution_count": 4
        }
      ]
    },
    {
      "cell_type": "code",
      "metadata": {
        "id": "bkL121ITXNdq"
      },
      "source": [
        "df.columns = [\"Sales\"]"
      ],
      "execution_count": 5,
      "outputs": []
    },
    {
      "cell_type": "code",
      "metadata": {
        "colab": {
          "base_uri": "https://localhost:8080/",
          "height": 514
        },
        "id": "4T_oH_i2XT1n",
        "outputId": "2d9166ed-4677-4839-f2cf-7b1e0e780fc5"
      },
      "source": [
        "df.plot(figsize=(12,8))"
      ],
      "execution_count": 6,
      "outputs": [
        {
          "output_type": "execute_result",
          "data": {
            "text/plain": [
              "<matplotlib.axes._subplots.AxesSubplot at 0x7efda66e1610>"
            ]
          },
          "metadata": {
            "tags": []
          },
          "execution_count": 6
        },
        {
          "output_type": "display_data",
          "data": {
            "image/png": "[encoded data removed]",
            "text/plain": [
              "<Figure size 864x576 with 1 Axes>"
            ]
          },
          "metadata": {
            "tags": [],
            "needs_background": "light"
          }
        }
      ]
    },
    {
      "cell_type": "code",
      "metadata": {
        "id": "LaLltqlHYetf",
        "colab": {
          "base_uri": "https://localhost:8080/"
        },
        "outputId": "d00ac19b-09d1-44d6-8f89-4c1b1b691f22"
      },
      "source": [
        "len(df)"
      ],
      "execution_count": 7,
      "outputs": [
        {
          "output_type": "execute_result",
          "data": {
            "text/plain": [
              "348"
            ]
          },
          "metadata": {
            "tags": []
          },
          "execution_count": 7
        }
      ]
    },
    {
      "cell_type": "code",
      "metadata": {
        "id": "MyugHztjYo-p",
        "colab": {
          "base_uri": "https://localhost:8080/"
        },
        "outputId": "de2c3233-eb42-4db4-a105-55e0a016a23a"
      },
      "source": [
        "len(df) - 18"
      ],
      "execution_count": 8,
      "outputs": [
        {
          "output_type": "execute_result",
          "data": {
            "text/plain": [
              "330"
            ]
          },
          "metadata": {
            "tags": []
          },
          "execution_count": 8
        }
      ]
    },
    {
      "cell_type": "code",
      "metadata": {
        "id": "DvE1dDQvYuDb"
      },
      "source": [
        "test_size = 18\r\n",
        "test_ind = len(df) - test_size"
      ],
      "execution_count": 9,
      "outputs": []
    },
    {
      "cell_type": "code",
      "metadata": {
        "id": "SE5rrH74YpZ5"
      },
      "source": [
        "train = df.iloc[:test_ind]\r\n",
        "test = df.iloc[test_ind:]"
      ],
      "execution_count": 10,
      "outputs": []
    },
    {
      "cell_type": "code",
      "metadata": {
        "id": "W_xPovHHZIED",
        "colab": {
          "base_uri": "https://localhost:8080/",
          "height": 431
        },
        "outputId": "21a974a7-571a-4d49-af9b-41df50ca4623"
      },
      "source": [
        "train"
      ],
      "execution_count": 11,
      "outputs": [
        {
          "output_type": "execute_result",
          "data": {
            "text/html": [
              "<div>\n",
              "<style scoped>\n",
              "    .dataframe tbody tr th:only-of-type {\n",
              "        vertical-align: middle;\n",
              "    }\n",
              "\n",
              "    .dataframe tbody tr th {\n",
              "        vertical-align: top;\n",
              "    }\n",
              "\n",
              "    .dataframe thead th {\n",
              "        text-align: right;\n",
              "    }\n",
              "</style>\n",
              "<table border=\"1\" class=\"dataframe\">\n",
              "  <thead>\n",
              "    <tr style=\"text-align: right;\">\n",
              "      <th></th>\n",
              "      <th>Sales</th>\n",
              "    </tr>\n",
              "    <tr>\n",
              "      <th>DATE</th>\n",
              "      <th></th>\n",
              "    </tr>\n",
              "  </thead>\n",
              "  <tbody>\n",
              "    <tr>\n",
              "      <th>1992-01-01</th>\n",
              "      <td>6938</td>\n",
              "    </tr>\n",
              "    <tr>\n",
              "      <th>1992-02-01</th>\n",
              "      <td>7524</td>\n",
              "    </tr>\n",
              "    <tr>\n",
              "      <th>1992-03-01</th>\n",
              "      <td>8475</td>\n",
              "    </tr>\n",
              "    <tr>\n",
              "      <th>1992-04-01</th>\n",
              "      <td>9401</td>\n",
              "    </tr>\n",
              "    <tr>\n",
              "      <th>1992-05-01</th>\n",
              "      <td>9558</td>\n",
              "    </tr>\n",
              "    <tr>\n",
              "      <th>...</th>\n",
              "      <td>...</td>\n",
              "    </tr>\n",
              "    <tr>\n",
              "      <th>2019-02-01</th>\n",
              "      <td>17932</td>\n",
              "    </tr>\n",
              "    <tr>\n",
              "      <th>2019-03-01</th>\n",
              "      <td>21953</td>\n",
              "    </tr>\n",
              "    <tr>\n",
              "      <th>2019-04-01</th>\n",
              "      <td>21416</td>\n",
              "    </tr>\n",
              "    <tr>\n",
              "      <th>2019-05-01</th>\n",
              "      <td>22938</td>\n",
              "    </tr>\n",
              "    <tr>\n",
              "      <th>2019-06-01</th>\n",
              "      <td>20960</td>\n",
              "    </tr>\n",
              "  </tbody>\n",
              "</table>\n",
              "<p>330 rows × 1 columns</p>\n",
              "</div>"
            ],
            "text/plain": [
              "            Sales\n",
              "DATE             \n",
              "1992-01-01   6938\n",
              "1992-02-01   7524\n",
              "1992-03-01   8475\n",
              "1992-04-01   9401\n",
              "1992-05-01   9558\n",
              "...           ...\n",
              "2019-02-01  17932\n",
              "2019-03-01  21953\n",
              "2019-04-01  21416\n",
              "2019-05-01  22938\n",
              "2019-06-01  20960\n",
              "\n",
              "[330 rows x 1 columns]"
            ]
          },
          "metadata": {
            "tags": []
          },
          "execution_count": 11
        }
      ]
    },
    {
      "cell_type": "code",
      "metadata": {
        "id": "8BKthxkEZI4C",
        "colab": {
          "base_uri": "https://localhost:8080/",
          "height": 610
        },
        "outputId": "ed8b9524-c73f-4b9e-896f-02b5ede43403"
      },
      "source": [
        "test"
      ],
      "execution_count": 12,
      "outputs": [
        {
          "output_type": "execute_result",
          "data": {
            "text/html": [
              "<div>\n",
              "<style scoped>\n",
              "    .dataframe tbody tr th:only-of-type {\n",
              "        vertical-align: middle;\n",
              "    }\n",
              "\n",
              "    .dataframe tbody tr th {\n",
              "        vertical-align: top;\n",
              "    }\n",
              "\n",
              "    .dataframe thead th {\n",
              "        text-align: right;\n",
              "    }\n",
              "</style>\n",
              "<table border=\"1\" class=\"dataframe\">\n",
              "  <thead>\n",
              "    <tr style=\"text-align: right;\">\n",
              "      <th></th>\n",
              "      <th>Sales</th>\n",
              "    </tr>\n",
              "    <tr>\n",
              "      <th>DATE</th>\n",
              "      <th></th>\n",
              "    </tr>\n",
              "  </thead>\n",
              "  <tbody>\n",
              "    <tr>\n",
              "      <th>2019-07-01</th>\n",
              "      <td>21650</td>\n",
              "    </tr>\n",
              "    <tr>\n",
              "      <th>2019-08-01</th>\n",
              "      <td>23743</td>\n",
              "    </tr>\n",
              "    <tr>\n",
              "      <th>2019-09-01</th>\n",
              "      <td>19464</td>\n",
              "    </tr>\n",
              "    <tr>\n",
              "      <th>2019-10-01</th>\n",
              "      <td>21177</td>\n",
              "    </tr>\n",
              "    <tr>\n",
              "      <th>2019-11-01</th>\n",
              "      <td>24928</td>\n",
              "    </tr>\n",
              "    <tr>\n",
              "      <th>2019-12-01</th>\n",
              "      <td>34541</td>\n",
              "    </tr>\n",
              "    <tr>\n",
              "      <th>2020-01-01</th>\n",
              "      <td>16612</td>\n",
              "    </tr>\n",
              "    <tr>\n",
              "      <th>2020-02-01</th>\n",
              "      <td>18813</td>\n",
              "    </tr>\n",
              "    <tr>\n",
              "      <th>2020-03-01</th>\n",
              "      <td>10833</td>\n",
              "    </tr>\n",
              "    <tr>\n",
              "      <th>2020-04-01</th>\n",
              "      <td>2904</td>\n",
              "    </tr>\n",
              "    <tr>\n",
              "      <th>2020-05-01</th>\n",
              "      <td>8748</td>\n",
              "    </tr>\n",
              "    <tr>\n",
              "      <th>2020-06-01</th>\n",
              "      <td>15645</td>\n",
              "    </tr>\n",
              "    <tr>\n",
              "      <th>2020-07-01</th>\n",
              "      <td>16973</td>\n",
              "    </tr>\n",
              "    <tr>\n",
              "      <th>2020-08-01</th>\n",
              "      <td>18138</td>\n",
              "    </tr>\n",
              "    <tr>\n",
              "      <th>2020-09-01</th>\n",
              "      <td>18031</td>\n",
              "    </tr>\n",
              "    <tr>\n",
              "      <th>2020-10-01</th>\n",
              "      <td>19187</td>\n",
              "    </tr>\n",
              "    <tr>\n",
              "      <th>2020-11-01</th>\n",
              "      <td>20228</td>\n",
              "    </tr>\n",
              "    <tr>\n",
              "      <th>2020-12-01</th>\n",
              "      <td>30448</td>\n",
              "    </tr>\n",
              "  </tbody>\n",
              "</table>\n",
              "</div>"
            ],
            "text/plain": [
              "            Sales\n",
              "DATE             \n",
              "2019-07-01  21650\n",
              "2019-08-01  23743\n",
              "2019-09-01  19464\n",
              "2019-10-01  21177\n",
              "2019-11-01  24928\n",
              "2019-12-01  34541\n",
              "2020-01-01  16612\n",
              "2020-02-01  18813\n",
              "2020-03-01  10833\n",
              "2020-04-01   2904\n",
              "2020-05-01   8748\n",
              "2020-06-01  15645\n",
              "2020-07-01  16973\n",
              "2020-08-01  18138\n",
              "2020-09-01  18031\n",
              "2020-10-01  19187\n",
              "2020-11-01  20228\n",
              "2020-12-01  30448"
            ]
          },
          "metadata": {
            "tags": []
          },
          "execution_count": 12
        }
      ]
    },
    {
      "cell_type": "code",
      "metadata": {
        "id": "1eM4JoVXZKct"
      },
      "source": [
        "from sklearn.preprocessing import MinMaxScaler"
      ],
      "execution_count": 13,
      "outputs": []
    },
    {
      "cell_type": "code",
      "metadata": {
        "id": "f3YUa1CyZT3p"
      },
      "source": [
        "scaler = MinMaxScaler()"
      ],
      "execution_count": 14,
      "outputs": []
    },
    {
      "cell_type": "code",
      "metadata": {
        "id": "xTY_jtR2ZWv8",
        "colab": {
          "base_uri": "https://localhost:8080/"
        },
        "outputId": "af6254ff-abb5-41e8-f433-e7f4e194a440"
      },
      "source": [
        "scaler.fit(train)"
      ],
      "execution_count": 15,
      "outputs": [
        {
          "output_type": "execute_result",
          "data": {
            "text/plain": [
              "MinMaxScaler(copy=True, feature_range=(0, 1))"
            ]
          },
          "metadata": {
            "tags": []
          },
          "execution_count": 15
        }
      ]
    },
    {
      "cell_type": "code",
      "metadata": {
        "id": "c3UQd70TZt9v"
      },
      "source": [
        "scaled_train = scaler.transform(train)"
      ],
      "execution_count": 16,
      "outputs": []
    },
    {
      "cell_type": "code",
      "metadata": {
        "id": "HltByW82ZzpL"
      },
      "source": [
        "scaled_test= scaler.transform(test)"
      ],
      "execution_count": 17,
      "outputs": []
    },
    {
      "cell_type": "code",
      "metadata": {
        "id": "sL882EOTZ2sq"
      },
      "source": [
        "from tensorflow.keras.preprocessing.sequence import TimeseriesGenerator"
      ],
      "execution_count": 18,
      "outputs": []
    },
    {
      "cell_type": "code",
      "metadata": {
        "id": "EGdxCDYwZ-z_",
        "colab": {
          "base_uri": "https://localhost:8080/"
        },
        "outputId": "ef9bc637-3604-4e15-b06d-82cd9a6efaaf"
      },
      "source": [
        "len(test)"
      ],
      "execution_count": 19,
      "outputs": [
        {
          "output_type": "execute_result",
          "data": {
            "text/plain": [
              "18"
            ]
          },
          "metadata": {
            "tags": []
          },
          "execution_count": 19
        }
      ]
    },
    {
      "cell_type": "code",
      "metadata": {
        "id": "TJnszO_DaKtf"
      },
      "source": [
        "length = 12\r\n",
        "generator = TimeseriesGenerator(scaled_train,scaled_train,length = length,batch_size = 1)"
      ],
      "execution_count": 20,
      "outputs": []
    },
    {
      "cell_type": "code",
      "metadata": {
        "id": "qpHFM2apaMLW"
      },
      "source": [
        "X,y = generator[0]"
      ],
      "execution_count": 21,
      "outputs": []
    },
    {
      "cell_type": "code",
      "metadata": {
        "id": "BZz8NfmIciRd",
        "colab": {
          "base_uri": "https://localhost:8080/"
        },
        "outputId": "2d9bf866-666f-4fff-f377-7a0b5be86e65"
      },
      "source": [
        "len(X)"
      ],
      "execution_count": 22,
      "outputs": [
        {
          "output_type": "execute_result",
          "data": {
            "text/plain": [
              "1"
            ]
          },
          "metadata": {
            "tags": []
          },
          "execution_count": 22
        }
      ]
    },
    {
      "cell_type": "code",
      "metadata": {
        "id": "auGGVyz4cjJ1",
        "colab": {
          "base_uri": "https://localhost:8080/"
        },
        "outputId": "352bf1eb-95ad-4594-b0f5-1adf5c55fc93"
      },
      "source": [
        "scaled_train"
      ],
      "execution_count": 23,
      "outputs": [
        {
          "output_type": "execute_result",
          "data": {
            "text/plain": [
              "array([[0.        ],\n",
              "       [0.02117588],\n",
              "       [0.0555415 ],\n",
              "       [0.08900372],\n",
              "       [0.09467712],\n",
              "       [0.08108987],\n",
              "       [0.0782351 ],\n",
              "       [0.12918729],\n",
              "       [0.09521917],\n",
              "       [0.11982799],\n",
              "       [0.15354316],\n",
              "       [0.41401366],\n",
              "       [0.02038088],\n",
              "       [0.02117588],\n",
              "       [0.06605717],\n",
              "       [0.10584324],\n",
              "       [0.11292596],\n",
              "       [0.09745962],\n",
              "       [0.10320529],\n",
              "       [0.13334297],\n",
              "       [0.11111914],\n",
              "       [0.12315253],\n",
              "       [0.17424927],\n",
              "       [0.43049182],\n",
              "       [0.01235862],\n",
              "       [0.0348354 ],\n",
              "       [0.1077946 ],\n",
              "       [0.10591551],\n",
              "       [0.1109746 ],\n",
              "       [0.10678278],\n",
              "       [0.10107325],\n",
              "       [0.15245908],\n",
              "       [0.11849095],\n",
              "       [0.13702887],\n",
              "       [0.19571423],\n",
              "       [0.47259061],\n",
              "       [0.02095906],\n",
              "       [0.03696744],\n",
              "       [0.10396415],\n",
              "       [0.11672027],\n",
              "       [0.13305388],\n",
              "       [0.1215264 ],\n",
              "       [0.10284393],\n",
              "       [0.15632566],\n",
              "       [0.13630615],\n",
              "       [0.12651321],\n",
              "       [0.21006035],\n",
              "       [0.4720847 ],\n",
              "       [0.02695768],\n",
              "       [0.07418784],\n",
              "       [0.12326094],\n",
              "       [0.13124706],\n",
              "       [0.16142088],\n",
              "       [0.13066888],\n",
              "       [0.1179489 ],\n",
              "       [0.18776425],\n",
              "       [0.13316229],\n",
              "       [0.15581975],\n",
              "       [0.21454125],\n",
              "       [0.4699888 ],\n",
              "       [0.0453872 ],\n",
              "       [0.06855057],\n",
              "       [0.14100387],\n",
              "       [0.11538323],\n",
              "       [0.16503451],\n",
              "       [0.13428251],\n",
              "       [0.13717342],\n",
              "       [0.19958082],\n",
              "       [0.14468977],\n",
              "       [0.16973223],\n",
              "       [0.22787555],\n",
              "       [0.51241282],\n",
              "       [0.0672858 ],\n",
              "       [0.09254508],\n",
              "       [0.141835  ],\n",
              "       [0.17659813],\n",
              "       [0.19155856],\n",
              "       [0.16308315],\n",
              "       [0.16965996],\n",
              "       [0.21801033],\n",
              "       [0.15451885],\n",
              "       [0.19679832],\n",
              "       [0.24991869],\n",
              "       [0.55939002],\n",
              "       [0.08307737],\n",
              "       [0.11682868],\n",
              "       [0.18584902],\n",
              "       [0.1968706 ],\n",
              "       [0.22509305],\n",
              "       [0.19304015],\n",
              "       [0.19958082],\n",
              "       [0.24558234],\n",
              "       [0.19582264],\n",
              "       [0.2171792 ],\n",
              "       [0.27843024],\n",
              "       [0.62689264],\n",
              "       [0.09066599],\n",
              "       [0.15292885],\n",
              "       [0.21331262],\n",
              "       [0.22353919],\n",
              "       [0.24561847],\n",
              "       [0.21735988],\n",
              "       [0.20099013],\n",
              "       [0.27723774],\n",
              "       [0.2326094 ],\n",
              "       [0.23239258],\n",
              "       [0.31572291],\n",
              "       [0.64817692],\n",
              "       [0.11281755],\n",
              "       [0.16304701],\n",
              "       [0.22147942],\n",
              "       [0.23213963],\n",
              "       [0.24749756],\n",
              "       [0.21670943],\n",
              "       [0.20460377],\n",
              "       [0.28475409],\n",
              "       [0.18668016],\n",
              "       [0.226936  ],\n",
              "       [0.30405088],\n",
              "       [0.63585444],\n",
              "       [0.12308026],\n",
              "       [0.17316518],\n",
              "       [0.25436346],\n",
              "       [0.22610487],\n",
              "       [0.26061504],\n",
              "       [0.22664691],\n",
              "       [0.21446898],\n",
              "       [0.2954143 ],\n",
              "       [0.19900264],\n",
              "       [0.25541141],\n",
              "       [0.32425108],\n",
              "       [0.66534167],\n",
              "       [0.13970296],\n",
              "       [0.17070791],\n",
              "       [0.2353919 ],\n",
              "       [0.24402848],\n",
              "       [0.2815741 ],\n",
              "       [0.2369819 ],\n",
              "       [0.24991869],\n",
              "       [0.31019405],\n",
              "       [0.23954757],\n",
              "       [0.27691251],\n",
              "       [0.34752286],\n",
              "       [0.71629386],\n",
              "       [0.17533336],\n",
              "       [0.23148918],\n",
              "       [0.28265819],\n",
              "       [0.29342681],\n",
              "       [0.30502656],\n",
              "       [0.2637589 ],\n",
              "       [0.27929751],\n",
              "       [0.31257905],\n",
              "       [0.26328913],\n",
              "       [0.31192859],\n",
              "       [0.37191486],\n",
              "       [0.77577422],\n",
              "       [0.18458425],\n",
              "       [0.25078596],\n",
              "       [0.31760199],\n",
              "       [0.3169154 ],\n",
              "       [0.32706971],\n",
              "       [0.3115311 ],\n",
              "       [0.29920861],\n",
              "       [0.35265421],\n",
              "       [0.28988545],\n",
              "       [0.34586059],\n",
              "       [0.41426661],\n",
              "       [0.84334911],\n",
              "       [0.2151917 ],\n",
              "       [0.2723232 ],\n",
              "       [0.34141582],\n",
              "       [0.35811079],\n",
              "       [0.36732555],\n",
              "       [0.34571604],\n",
              "       [0.33740469],\n",
              "       [0.39366892],\n",
              "       [0.35518375],\n",
              "       [0.372746  ],\n",
              "       [0.45000542],\n",
              "       [0.88620677],\n",
              "       [0.25255664],\n",
              "       [0.2941134 ],\n",
              "       [0.40136595],\n",
              "       [0.3670726 ],\n",
              "       [0.41686843],\n",
              "       [0.3740469 ],\n",
              "       [0.35937556],\n",
              "       [0.43045568],\n",
              "       [0.35511148],\n",
              "       [0.3857912 ],\n",
              "       [0.4918874 ],\n",
              "       [0.85632205],\n",
              "       [0.26144617],\n",
              "       [0.3229863 ],\n",
              "       [0.39142847],\n",
              "       [0.36732555],\n",
              "       [0.43891157],\n",
              "       [0.36385647],\n",
              "       [0.37693781],\n",
              "       [0.43735771],\n",
              "       [0.32320312],\n",
              "       [0.35623171],\n",
              "       [0.42705887],\n",
              "       [0.71506523],\n",
              "       [0.23304304],\n",
              "       [0.27991183],\n",
              "       [0.31167564],\n",
              "       [0.33964514],\n",
              "       [0.3731435 ],\n",
              "       [0.30701406],\n",
              "       [0.32772016],\n",
              "       [0.38730893],\n",
              "       [0.31409677],\n",
              "       [0.36551874],\n",
              "       [0.41173707],\n",
              "       [0.72959202],\n",
              "       [0.22686373],\n",
              "       [0.28468182],\n",
              "       [0.37769667],\n",
              "       [0.36512124],\n",
              "       [0.38987461],\n",
              "       [0.33245402],\n",
              "       [0.35789398],\n",
              "       [0.39695732],\n",
              "       [0.33585083],\n",
              "       [0.37849167],\n",
              "       [0.47212084],\n",
              "       [0.78079717],\n",
              "       [0.24446211],\n",
              "       [0.3249738 ],\n",
              "       [0.40884617],\n",
              "       [0.42312001],\n",
              "       [0.42760091],\n",
              "       [0.39189824],\n",
              "       [0.39746323],\n",
              "       [0.44537997],\n",
              "       [0.39970368],\n",
              "       [0.40895458],\n",
              "       [0.50659488],\n",
              "       [0.87341452],\n",
              "       [0.26813139],\n",
              "       [0.39724641],\n",
              "       [0.47786651],\n",
              "       [0.42145774],\n",
              "       [0.47027789],\n",
              "       [0.42564955],\n",
              "       [0.40935208],\n",
              "       [0.49911466],\n",
              "       [0.41386911],\n",
              "       [0.430275  ],\n",
              "       [0.54486322],\n",
              "       [0.8877245 ],\n",
              "       [0.29693203],\n",
              "       [0.37740758],\n",
              "       [0.49279081],\n",
              "       [0.44223611],\n",
              "       [0.50019875],\n",
              "       [0.43367181],\n",
              "       [0.44223611],\n",
              "       [0.5283128 ],\n",
              "       [0.40375095],\n",
              "       [0.46677267],\n",
              "       [0.56007661],\n",
              "       [0.89039858],\n",
              "       [0.2977993 ],\n",
              "       [0.38192462],\n",
              "       [0.47454197],\n",
              "       [0.48364832],\n",
              "       [0.52867416],\n",
              "       [0.4339609 ],\n",
              "       [0.46579699],\n",
              "       [0.54403209],\n",
              "       [0.42308387],\n",
              "       [0.47996242],\n",
              "       [0.59816428],\n",
              "       [0.92870307],\n",
              "       [0.31893904],\n",
              "       [0.39901709],\n",
              "       [0.49918693],\n",
              "       [0.48606945],\n",
              "       [0.54952481],\n",
              "       [0.45997904],\n",
              "       [0.49239331],\n",
              "       [0.55563184],\n",
              "       [0.44133271],\n",
              "       [0.49503126],\n",
              "       [0.58367362],\n",
              "       [0.95425144],\n",
              "       [0.31608427],\n",
              "       [0.43320204],\n",
              "       [0.52538576],\n",
              "       [0.48690059],\n",
              "       [0.53156506],\n",
              "       [0.47768583],\n",
              "       [0.49644057],\n",
              "       [0.55852275],\n",
              "       [0.46536335],\n",
              "       [0.49167058],\n",
              "       [0.60586131],\n",
              "       [1.        ],\n",
              "       [0.31991472],\n",
              "       [0.39612619],\n",
              "       [0.51599032],\n",
              "       [0.51002782],\n",
              "       [0.53817801],\n",
              "       [0.49105626],\n",
              "       [0.49828353],\n",
              "       [0.5701225 ],\n",
              "       [0.46742312],\n",
              "       [0.48845445],\n",
              "       [0.6378058 ],\n",
              "       [0.97394572],\n",
              "       [0.32078199],\n",
              "       [0.41712138],\n",
              "       [0.55671593],\n",
              "       [0.49018899],\n",
              "       [0.60322336],\n",
              "       [0.52094099],\n",
              "       [0.53539551],\n",
              "       [0.58797384],\n",
              "       [0.47049471],\n",
              "       [0.52032667],\n",
              "       [0.67625483],\n",
              "       [0.98243776],\n",
              "       [0.3347306 ],\n",
              "       [0.39728255],\n",
              "       [0.54258664],\n",
              "       [0.52318144],\n",
              "       [0.5781809 ],\n",
              "       [0.50670328]])"
            ]
          },
          "metadata": {
            "tags": []
          },
          "execution_count": 23
        }
      ]
    },
    {
      "cell_type": "code",
      "metadata": {
        "id": "ivRiGj7Fc_Fe"
      },
      "source": [
        "from tensorflow.keras.models import Sequential"
      ],
      "execution_count": 24,
      "outputs": []
    },
    {
      "cell_type": "code",
      "metadata": {
        "id": "eYO0gEQWgz8o"
      },
      "source": [
        "from tensorflow.keras.layers import Dense,LSTM"
      ],
      "execution_count": 25,
      "outputs": []
    },
    {
      "cell_type": "code",
      "metadata": {
        "id": "CHKGZ4s4g4ik"
      },
      "source": [
        "n_features = 1"
      ],
      "execution_count": 26,
      "outputs": []
    },
    {
      "cell_type": "code",
      "metadata": {
        "id": "gmlX0Tacg646"
      },
      "source": [
        "model = Sequential()"
      ],
      "execution_count": 27,
      "outputs": []
    },
    {
      "cell_type": "code",
      "metadata": {
        "id": "SRSXSD2qg9qs"
      },
      "source": [
        "model.add(LSTM(100,activation=\"relu\",input_shape = (length,n_features)))"
      ],
      "execution_count": 28,
      "outputs": []
    },
    {
      "cell_type": "code",
      "metadata": {
        "id": "q3kbr8WdhOyM"
      },
      "source": [
        "model.add(Dense(1))"
      ],
      "execution_count": 29,
      "outputs": []
    },
    {
      "cell_type": "code",
      "metadata": {
        "id": "EDQV9NrlhRsd"
      },
      "source": [
        "model.compile(optimizer=\"adam\",loss = \"mse\")"
      ],
      "execution_count": 30,
      "outputs": []
    },
    {
      "cell_type": "code",
      "metadata": {
        "id": "o0AraDN5hCp5",
        "colab": {
          "base_uri": "https://localhost:8080/"
        },
        "outputId": "31ae3f20-a068-4794-cd89-101e33110be1"
      },
      "source": [
        "model.summary()"
      ],
      "execution_count": 31,
      "outputs": [
        {
          "output_type": "stream",
          "text": [
            "Model: \"sequential\"\n",
            "_________________________________________________________________\n",
            "Layer (type)                 Output Shape              Param #   \n",
            "=================================================================\n",
            "lstm (LSTM)                  (None, 100)               40800     \n",
            "_________________________________________________________________\n",
            "dense (Dense)                (None, 1)                 101       \n",
            "=================================================================\n",
            "Total params: 40,901\n",
            "Trainable params: 40,901\n",
            "Non-trainable params: 0\n",
            "_________________________________________________________________\n"
          ],
          "name": "stdout"
        }
      ]
    },
    {
      "cell_type": "code",
      "metadata": {
        "id": "QNW5hfZBiL9i"
      },
      "source": [
        "from tensorflow.keras.callbacks import EarlyStopping"
      ],
      "execution_count": 32,
      "outputs": []
    },
    {
      "cell_type": "code",
      "metadata": {
        "id": "sgt-gjc3iQqW"
      },
      "source": [
        "early_stop = EarlyStopping(monitor=\"val_loss\",patience = 2)"
      ],
      "execution_count": 33,
      "outputs": []
    },
    {
      "cell_type": "code",
      "metadata": {
        "id": "RTcTUzBVixM7"
      },
      "source": [
        "validation_generator = TimeseriesGenerator(scaled_test,scaled_test,length=length,batch_size = 1)"
      ],
      "execution_count": 34,
      "outputs": []
    },
    {
      "cell_type": "code",
      "metadata": {
        "id": "twpv8TLXjDIn",
        "colab": {
          "base_uri": "https://localhost:8080/"
        },
        "outputId": "3baa8c3a-c580-4b7b-bf4b-ce4fcaf85f79"
      },
      "source": [
        "model.fit_generator(generator,epochs = 20,validation_data = validation_generator,callbacks=[early_stop])"
      ],
      "execution_count": 35,
      "outputs": [
        {
          "output_type": "stream",
          "text": [
            "Epoch 1/20\n"
          ],
          "name": "stdout"
        },
        {
          "output_type": "stream",
          "text": [
            "/usr/local/lib/python3.7/dist-packages/tensorflow/python/keras/engine/training.py:1844: UserWarning: `Model.fit_generator` is deprecated and will be removed in a future version. Please use `Model.fit`, which supports generators.\n",
            "  warnings.warn('`Model.fit_generator` is deprecated and '\n"
          ],
          "name": "stderr"
        },
        {
          "output_type": "stream",
          "text": [
            "318/318 [==============================] - 4s 7ms/step - loss: 0.0393 - val_loss: 0.0473\n",
            "Epoch 2/20\n",
            "318/318 [==============================] - 2s 6ms/step - loss: 0.0166 - val_loss: 0.0241\n",
            "Epoch 3/20\n",
            "318/318 [==============================] - 2s 5ms/step - loss: 0.0127 - val_loss: 0.0072\n",
            "Epoch 4/20\n",
            "318/318 [==============================] - 2s 5ms/step - loss: 0.0075 - val_loss: 0.0163\n",
            "Epoch 5/20\n",
            "318/318 [==============================] - 2s 5ms/step - loss: 0.0018 - val_loss: 0.0099\n"
          ],
          "name": "stdout"
        },
        {
          "output_type": "execute_result",
          "data": {
            "text/plain": [
              "<tensorflow.python.keras.callbacks.History at 0x7efd5bbb0910>"
            ]
          },
          "metadata": {
            "tags": []
          },
          "execution_count": 35
        }
      ]
    },
    {
      "cell_type": "code",
      "metadata": {
        "id": "Npa2jS0Mjju4"
      },
      "source": [
        "losses = pd.DataFrame(model.history.history)"
      ],
      "execution_count": 36,
      "outputs": []
    },
    {
      "cell_type": "code",
      "metadata": {
        "id": "Ak-ot1zUIkUU",
        "colab": {
          "base_uri": "https://localhost:8080/",
          "height": 282
        },
        "outputId": "798af4b2-a851-4c49-fcd8-a7341ba8468e"
      },
      "source": [
        "losses.plot()"
      ],
      "execution_count": 37,
      "outputs": [
        {
          "output_type": "execute_result",
          "data": {
            "text/plain": [
              "<matplotlib.axes._subplots.AxesSubplot at 0x7efd58008190>"
            ]
          },
          "metadata": {
            "tags": []
          },
          "execution_count": 37
        },
        {
          "output_type": "display_data",
          "data": {
            "image/png": "[encoded data removed]",
            "text/plain": [
              "<Figure size 432x288 with 1 Axes>"
            ]
          },
          "metadata": {
            "tags": [],
            "needs_background": "light"
          }
        }
      ]
    },
    {
      "cell_type": "code",
      "metadata": {
        "id": "ICP1QsJLIn4R"
      },
      "source": [
        "test_predictions = []\r\n",
        "first_eval_batch = scaled_train[-length:]\r\n",
        "current_batch= first_eval_batch.reshape((1,length,n_features))\r\n",
        "\r\n",
        "for i in range(len(test)):\r\n",
        "    current_pred = model.predict(current_batch)[0]\r\n",
        "\r\n",
        "    test_predictions.append(current_pred)\r\n",
        "\r\n",
        "    current_batch = np.append(current_batch[:,1:,:],[[current_pred]],axis=1)"
      ],
      "execution_count": 40,
      "outputs": []
    },
    {
      "cell_type": "code",
      "metadata": {
        "id": "RWKzGmqQffby"
      },
      "source": [
        "true_predictions = scaler.inverse_transform(test_predictions)"
      ],
      "execution_count": 44,
      "outputs": []
    },
    {
      "cell_type": "code",
      "metadata": {
        "colab": {
          "base_uri": "https://localhost:8080/"
        },
        "id": "GmiH3jitfoyF",
        "outputId": "6caf7860-c682-4fad-e355-67c532f8a9ba"
      },
      "source": [
        "test[\"Predicitions\"] = true_predictions"
      ],
      "execution_count": 45,
      "outputs": [
        {
          "output_type": "stream",
          "text": [
            "/usr/local/lib/python3.7/dist-packages/ipykernel_launcher.py:1: SettingWithCopyWarning: \n",
            "A value is trying to be set on a copy of a slice from a DataFrame.\n",
            "Try using .loc[row_indexer,col_indexer] = value instead\n",
            "\n",
            "See the caveats in the documentation: https://pandas.pydata.org/pandas-docs/stable/user_guide/indexing.html#returning-a-view-versus-a-copy\n",
            "  \"\"\"Entry point for launching an IPython kernel.\n"
          ],
          "name": "stderr"
        }
      ]
    },
    {
      "cell_type": "code",
      "metadata": {
        "colab": {
          "base_uri": "https://localhost:8080/",
          "height": 525
        },
        "id": "Rj3CS2D9fu6v",
        "outputId": "0fd34674-cfc7-4326-9186-9c6b2d564bfc"
      },
      "source": [
        "test.plot(figsize = (12,8))"
      ],
      "execution_count": 46,
      "outputs": [
        {
          "output_type": "execute_result",
          "data": {
            "text/plain": [
              "<matplotlib.axes._subplots.AxesSubplot at 0x7efd57e5f690>"
            ]
          },
          "metadata": {
            "tags": []
          },
          "execution_count": 46
        },
        {
          "output_type": "display_data",
          "data": {
            "image/png": "[encoded data removed]",
            "text/plain": [
              "<Figure size 864x576 with 1 Axes>"
            ]
          },
          "metadata": {
            "tags": [],
            "needs_background": "light"
          }
        }
      ]
    },
    {
      "cell_type": "code",
      "metadata": {
        "id": "JgDG-5Drf3Mh"
      },
      "source": [
        "full_scaler = MinMaxScaler()\r\n",
        "scaled_full_data = full_scaler.fit_transform(df)"
      ],
      "execution_count": 47,
      "outputs": []
    },
    {
      "cell_type": "code",
      "metadata": {
        "id": "qchL_D-8gBaf"
      },
      "source": [
        "length = 12"
      ],
      "execution_count": 48,
      "outputs": []
    },
    {
      "cell_type": "code",
      "metadata": {
        "id": "R7dmFwXwgC8_"
      },
      "source": [
        "generator = TimeseriesGenerator(scaled_full_data,scaled_full_data,length = length,batch_size = 1)"
      ],
      "execution_count": 50,
      "outputs": []
    },
    {
      "cell_type": "code",
      "metadata": {
        "colab": {
          "base_uri": "https://localhost:8080/"
        },
        "id": "_4SLOdAjgPzl",
        "outputId": "c0fc74a2-b5ea-48b6-b4f4-9a1a8a066116"
      },
      "source": [
        "model = Sequential()\r\n",
        "model.add(LSTM(100,activation = \"relu\" , input_shape = (length,n_features)))\r\n",
        "model.add(Dense(1))\r\n",
        "model.compile(optimizer = \"adam\",loss = \"mse\")\r\n",
        "\r\n",
        "model.fit_generator(generator,epochs = 8)"
      ],
      "execution_count": 51,
      "outputs": [
        {
          "output_type": "stream",
          "text": [
            "/usr/local/lib/python3.7/dist-packages/tensorflow/python/keras/engine/training.py:1844: UserWarning: `Model.fit_generator` is deprecated and will be removed in a future version. Please use `Model.fit`, which supports generators.\n",
            "  warnings.warn('`Model.fit_generator` is deprecated and '\n"
          ],
          "name": "stderr"
        },
        {
          "output_type": "stream",
          "text": [
            "Epoch 1/8\n",
            "336/336 [==============================] - 3s 6ms/step - loss: 0.0391\n",
            "Epoch 2/8\n",
            "336/336 [==============================] - 2s 5ms/step - loss: 0.0168\n",
            "Epoch 3/8\n",
            "336/336 [==============================] - 2s 6ms/step - loss: 0.0089\n",
            "Epoch 4/8\n",
            "336/336 [==============================] - 2s 5ms/step - loss: 0.0069\n",
            "Epoch 5/8\n",
            "336/336 [==============================] - 2s 5ms/step - loss: 0.0060\n",
            "Epoch 6/8\n",
            "336/336 [==============================] - 2s 5ms/step - loss: 0.0046\n",
            "Epoch 7/8\n",
            "336/336 [==============================] - 2s 5ms/step - loss: 0.0036\n",
            "Epoch 8/8\n",
            "336/336 [==============================] - 2s 5ms/step - loss: 0.0033\n"
          ],
          "name": "stdout"
        },
        {
          "output_type": "execute_result",
          "data": {
            "text/plain": [
              "<tensorflow.python.keras.callbacks.History at 0x7efd57eea990>"
            ]
          },
          "metadata": {
            "tags": []
          },
          "execution_count": 51
        }
      ]
    },
    {
      "cell_type": "code",
      "metadata": {
        "id": "GeHyTcjIg6Ne"
      },
      "source": [
        "forecast = []\r\n",
        "\r\n",
        "periods = 12\r\n",
        "\r\n",
        "first_eval_batch = scaled_full_data[-length:]\r\n",
        "current_batch = first_eval_batch.reshape((1,length,n_features))\r\n",
        "\r\n",
        "for i in range(periods):\r\n",
        "  current_pred = model.predict(current_batch)[0]\r\n",
        "  forecast.append(current_pred)\r\n",
        "  current_batch = np.append(current_batch[:,1:,:],[[current_pred]],axis = 1)\r\n"
      ],
      "execution_count": 53,
      "outputs": []
    },
    {
      "cell_type": "code",
      "metadata": {
        "id": "mF1dl-iVy29I"
      },
      "source": [
        "forecast = scaler.inverse_transform(forecast)"
      ],
      "execution_count": 55,
      "outputs": []
    },
    {
      "cell_type": "code",
      "metadata": {
        "colab": {
          "base_uri": "https://localhost:8080/"
        },
        "id": "5v3z6-AizMab",
        "outputId": "48959cf1-c62a-4112-b2af-a47ce78fa77b"
      },
      "source": [
        "forecast"
      ],
      "execution_count": 57,
      "outputs": [
        {
          "output_type": "execute_result",
          "data": {
            "text/plain": [
              "array([[19281.95863354],\n",
              "       [20181.18512517],\n",
              "       [16067.1139496 ],\n",
              "       [15568.30040258],\n",
              "       [16019.09547168],\n",
              "       [17656.46091062],\n",
              "       [18452.01519173],\n",
              "       [19230.71220285],\n",
              "       [19374.11115974],\n",
              "       [20102.20996982],\n",
              "       [21310.83334357],\n",
              "       [27837.21284527]])"
            ]
          },
          "metadata": {
            "tags": []
          },
          "execution_count": 57
        }
      ]
    },
    {
      "cell_type": "code",
      "metadata": {
        "id": "OsIm0pWtzRLl"
      },
      "source": [
        "forecast_index = pd.date_range(start = \"2019-11-01\",periods= periods,freq =\"MS\")"
      ],
      "execution_count": 58,
      "outputs": []
    },
    {
      "cell_type": "code",
      "metadata": {
        "colab": {
          "base_uri": "https://localhost:8080/"
        },
        "id": "dWF38mA_zxh-",
        "outputId": "edefc5ac-9f58-4cfc-81d9-e844b35e69b0"
      },
      "source": [
        "forecast_index"
      ],
      "execution_count": 59,
      "outputs": [
        {
          "output_type": "execute_result",
          "data": {
            "text/plain": [
              "DatetimeIndex(['2019-11-01', '2019-12-01', '2020-01-01', '2020-02-01',\n",
              "               '2020-03-01', '2020-04-01', '2020-05-01', '2020-06-01',\n",
              "               '2020-07-01', '2020-08-01', '2020-09-01', '2020-10-01'],\n",
              "              dtype='datetime64[ns]', freq='MS')"
            ]
          },
          "metadata": {
            "tags": []
          },
          "execution_count": 59
        }
      ]
    },
    {
      "cell_type": "code",
      "metadata": {
        "id": "Cm9QRb72z3wy"
      },
      "source": [
        "forecast_df = pd.DataFrame(data=forecast,index = forecast_index,columns =[\"Forecast\"])"
      ],
      "execution_count": 60,
      "outputs": []
    },
    {
      "cell_type": "code",
      "metadata": {
        "colab": {
          "base_uri": "https://localhost:8080/",
          "height": 556
        },
        "id": "hbGP0tp70Tpk",
        "outputId": "92ea207f-0488-4296-e9ac-3087a7b18efb"
      },
      "source": [
        "df.plot()\r\n",
        "forecast_df.plot()"
      ],
      "execution_count": 61,
      "outputs": [
        {
          "output_type": "execute_result",
          "data": {
            "text/plain": [
              "<matplotlib.axes._subplots.AxesSubplot at 0x7efd52ee1a50>"
            ]
          },
          "metadata": {
            "tags": []
          },
          "execution_count": 61
        },
        {
          "output_type": "display_data",
          "data": {
            "image/png": "[encoded data removed]",
            "text/plain": [
              "<Figure size 432x288 with 1 Axes>"
            ]
          },
          "metadata": {
            "tags": [],
            "needs_background": "light"
          }
        },
        {
          "output_type": "display_data",
          "data": {
            "image/png": "[encoded data removed]",
            "text/plain": [
              "<Figure size 432x288 with 1 Axes>"
            ]
          },
          "metadata": {
            "tags": [],
            "needs_background": "light"
          }
        }
      ]
    },
    {
      "cell_type": "code",
      "metadata": {
        "colab": {
          "base_uri": "https://localhost:8080/",
          "height": 308
        },
        "id": "XDkmWXPk0ffa",
        "outputId": "7bba0e3f-4636-4c97-eb7b-4c89bdfb5450"
      },
      "source": [
        "ax = df.plot()\r\n",
        "forecast_df.plot(ax=ax)\r\n",
        "plt.xlim(\"2019-01-01\",\"2020-12-01\")"
      ],
      "execution_count": 62,
      "outputs": [
        {
          "output_type": "execute_result",
          "data": {
            "text/plain": [
              "(588.0, 611.0)"
            ]
          },
          "metadata": {
            "tags": []
          },
          "execution_count": 62
        },
        {
          "output_type": "display_data",
          "data": {
            "image/png": "[encoded data removed]",
            "text/plain": [
              "<Figure size 432x288 with 1 Axes>"
            ]
          },
          "metadata": {
            "tags": [],
            "needs_background": "light"
          }
        }
      ]
    }
  ]
}